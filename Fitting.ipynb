{
 "cells": [
  {
   "cell_type": "code",
   "execution_count": 1,
   "metadata": {},
   "outputs": [],
   "source": [
    "import matplotlib.pyplot as plt"
   ]
  },
  {
   "cell_type": "code",
   "execution_count": 4,
   "metadata": {},
   "outputs": [
    {
     "name": "stdout",
     "output_type": "stream",
     "text": [
      "[ 0.05279725 -0.0667103 ]\n"
     ]
    }
   ],
   "source": [
    "#make a fitting curve for channel number vs expected energy\n",
    "\n",
    "energy = [662,122,59.5]\n",
    "channel = [12540,2310,1130]\n",
    "\n",
    "from scipy.optimize import curve_fit\n",
    "\n",
    "def func(x, a, b):\n",
    "    return a*x + b\n",
    "\n",
    "popt, pcov = curve_fit(func, channel, energy)\n",
    "\n",
    "print(popt)"
   ]
  },
  {
   "cell_type": "code",
   "execution_count": 5,
   "metadata": {},
   "outputs": [],
   "source": [
    "#convert from channel number to energy\n",
    "\n",
    "def channel_to_energy(channel):\n",
    "    return popt[0]*channel + popt[1]\n",
    "\n",
    "def energy_to_channel(energy):\n",
    "    return (energy - popt[1])/popt[0]"
   ]
  },
  {
   "cell_type": "code",
   "execution_count": 6,
   "metadata": {},
   "outputs": [
    {
     "name": "stdout",
     "output_type": "stream",
     "text": [
      "1516.4938154408535\n"
     ]
    }
   ],
   "source": [
    "#we want 80 keV\n",
    "\n",
    "channel_80 = energy_to_channel(80)\n",
    "print(channel_80)"
   ]
  }
 ],
 "metadata": {
  "kernelspec": {
   "display_name": "base",
   "language": "python",
   "name": "python3"
  },
  "language_info": {
   "codemirror_mode": {
    "name": "ipython",
    "version": 3
   },
   "file_extension": ".py",
   "mimetype": "text/x-python",
   "name": "python",
   "nbconvert_exporter": "python",
   "pygments_lexer": "ipython3",
   "version": "3.9.12"
  }
 },
 "nbformat": 4,
 "nbformat_minor": 2
}
